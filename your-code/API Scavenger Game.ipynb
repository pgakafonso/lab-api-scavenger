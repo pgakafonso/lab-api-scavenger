{
 "cells": [
  {
   "cell_type": "markdown",
   "id": "59c07dbc",
   "metadata": {},
   "source": [
    "Challenge 1: Fork Languages\n",
    "\n",
    "You will find out how many programming languages are used among all the forks created from the main lab repo of your bootcamp. Assuming the main lab repo is ironhack-datalabs/bcn-feb-2019, you will:\n",
    "\n",
    "Obtain the full list of forks created from the main lab repo via Github API.\n",
    "\n",
    "Loop the JSON response to find out the language attribute of each fork. Use an array to store the language attributes of each fork.\n",
    "\n",
    "Hint: Each language should appear only once in your array.\n",
    "Print the language array. It should be something like:\n",
    "\n",
    "[\"Python\", \"Jupyter Notebook\", \"HTML\"]"
   ]
  },
  {
   "cell_type": "code",
   "execution_count": null,
   "id": "8353fe3a",
   "metadata": {},
   "outputs": [],
   "source": [
    "#Lab done on august 13, 2021"
   ]
  },
  {
   "cell_type": "code",
   "execution_count": 2,
   "id": "f3c5d82f",
   "metadata": {},
   "outputs": [],
   "source": [
    "#import libraries\n",
    "import requests\n",
    "import json\n",
    "import pandas as pd"
   ]
  },
  {
   "cell_type": "code",
   "execution_count": 3,
   "id": "cef33c6b",
   "metadata": {},
   "outputs": [],
   "source": [
    "#Start by doing a request test\n",
    "\n",
    "url = 'https://api.github.com/repos/ironhack-datalabs/datalis0819/forks'\n",
    "\n",
    "response = requests.get(url)"
   ]
  },
  {
   "cell_type": "code",
   "execution_count": 4,
   "id": "c3bf779a",
   "metadata": {},
   "outputs": [
    {
     "data": {
      "text/plain": [
       "<Response [200]>"
      ]
     },
     "execution_count": 4,
     "metadata": {},
     "output_type": "execute_result"
    }
   ],
   "source": [
    "#Test API response\n",
    "response"
   ]
  },
  {
   "cell_type": "code",
   "execution_count": 10,
   "id": "5a42a9c0",
   "metadata": {},
   "outputs": [
    {
     "data": {
      "text/html": [
       "<div>\n",
       "<style scoped>\n",
       "    .dataframe tbody tr th:only-of-type {\n",
       "        vertical-align: middle;\n",
       "    }\n",
       "\n",
       "    .dataframe tbody tr th {\n",
       "        vertical-align: top;\n",
       "    }\n",
       "\n",
       "    .dataframe thead th {\n",
       "        text-align: right;\n",
       "    }\n",
       "</style>\n",
       "<table border=\"1\" class=\"dataframe\">\n",
       "  <thead>\n",
       "    <tr style=\"text-align: right;\">\n",
       "      <th></th>\n",
       "      <th>id</th>\n",
       "      <th>node_id</th>\n",
       "      <th>name</th>\n",
       "      <th>full_name</th>\n",
       "      <th>private</th>\n",
       "      <th>owner</th>\n",
       "      <th>html_url</th>\n",
       "      <th>description</th>\n",
       "      <th>fork</th>\n",
       "      <th>url</th>\n",
       "      <th>...</th>\n",
       "      <th>forks_count</th>\n",
       "      <th>mirror_url</th>\n",
       "      <th>archived</th>\n",
       "      <th>disabled</th>\n",
       "      <th>open_issues_count</th>\n",
       "      <th>license</th>\n",
       "      <th>forks</th>\n",
       "      <th>open_issues</th>\n",
       "      <th>watchers</th>\n",
       "      <th>default_branch</th>\n",
       "    </tr>\n",
       "  </thead>\n",
       "  <tbody>\n",
       "    <tr>\n",
       "      <th>0</th>\n",
       "      <td>259088458</td>\n",
       "      <td>MDEwOlJlcG9zaXRvcnkyNTkwODg0NTg=</td>\n",
       "      <td>datalis0819</td>\n",
       "      <td>edxz7/datalis0819</td>\n",
       "      <td>False</td>\n",
       "      <td>{'login': 'edxz7', 'id': 22061025, 'node_id': ...</td>\n",
       "      <td>https://github.com/edxz7/datalis0819</td>\n",
       "      <td>Data Analytics Full Time Lisbon, August 2019</td>\n",
       "      <td>True</td>\n",
       "      <td>https://api.github.com/repos/edxz7/datalis0819</td>\n",
       "      <td>...</td>\n",
       "      <td>0</td>\n",
       "      <td>None</td>\n",
       "      <td>False</td>\n",
       "      <td>False</td>\n",
       "      <td>0</td>\n",
       "      <td>{'key': 'agpl-3.0', 'name': 'GNU Affero Genera...</td>\n",
       "      <td>0</td>\n",
       "      <td>0</td>\n",
       "      <td>0</td>\n",
       "      <td>master</td>\n",
       "    </tr>\n",
       "    <tr>\n",
       "      <th>1</th>\n",
       "      <td>219552641</td>\n",
       "      <td>MDEwOlJlcG9zaXRvcnkyMTk1NTI2NDE=</td>\n",
       "      <td>datalis0819</td>\n",
       "      <td>Mariana427/datalis0819</td>\n",
       "      <td>False</td>\n",
       "      <td>{'login': 'Mariana427', 'id': 54869432, 'node_...</td>\n",
       "      <td>https://github.com/Mariana427/datalis0819</td>\n",
       "      <td>Data Analytics Full Time Lisbon, August 2019</td>\n",
       "      <td>True</td>\n",
       "      <td>https://api.github.com/repos/Mariana427/datali...</td>\n",
       "      <td>...</td>\n",
       "      <td>0</td>\n",
       "      <td>None</td>\n",
       "      <td>False</td>\n",
       "      <td>False</td>\n",
       "      <td>0</td>\n",
       "      <td>{'key': 'agpl-3.0', 'name': 'GNU Affero Genera...</td>\n",
       "      <td>0</td>\n",
       "      <td>0</td>\n",
       "      <td>0</td>\n",
       "      <td>master</td>\n",
       "    </tr>\n",
       "    <tr>\n",
       "      <th>2</th>\n",
       "      <td>219547548</td>\n",
       "      <td>MDEwOlJlcG9zaXRvcnkyMTk1NDc1NDg=</td>\n",
       "      <td>datalis0819</td>\n",
       "      <td>EvelienDonkers/datalis0819</td>\n",
       "      <td>False</td>\n",
       "      <td>{'login': 'EvelienDonkers', 'id': 55210096, 'n...</td>\n",
       "      <td>https://github.com/EvelienDonkers/datalis0819</td>\n",
       "      <td>Data Analytics Full Time Lisbon, August 2019</td>\n",
       "      <td>True</td>\n",
       "      <td>https://api.github.com/repos/EvelienDonkers/da...</td>\n",
       "      <td>...</td>\n",
       "      <td>0</td>\n",
       "      <td>None</td>\n",
       "      <td>False</td>\n",
       "      <td>False</td>\n",
       "      <td>0</td>\n",
       "      <td>{'key': 'agpl-3.0', 'name': 'GNU Affero Genera...</td>\n",
       "      <td>0</td>\n",
       "      <td>0</td>\n",
       "      <td>0</td>\n",
       "      <td>master</td>\n",
       "    </tr>\n",
       "    <tr>\n",
       "      <th>3</th>\n",
       "      <td>206122694</td>\n",
       "      <td>MDEwOlJlcG9zaXRvcnkyMDYxMjI2OTQ=</td>\n",
       "      <td>datalis0819</td>\n",
       "      <td>ta-data-lis/datalis0819</td>\n",
       "      <td>False</td>\n",
       "      <td>{'login': 'ta-data-lis', 'id': 54109907, 'node...</td>\n",
       "      <td>https://github.com/ta-data-lis/datalis0819</td>\n",
       "      <td>Data Analytics Full Time Lisbon, August 2019</td>\n",
       "      <td>True</td>\n",
       "      <td>https://api.github.com/repos/ta-data-lis/datal...</td>\n",
       "      <td>...</td>\n",
       "      <td>0</td>\n",
       "      <td>None</td>\n",
       "      <td>False</td>\n",
       "      <td>False</td>\n",
       "      <td>0</td>\n",
       "      <td>{'key': 'agpl-3.0', 'name': 'GNU Affero Genera...</td>\n",
       "      <td>0</td>\n",
       "      <td>0</td>\n",
       "      <td>0</td>\n",
       "      <td>master</td>\n",
       "    </tr>\n",
       "    <tr>\n",
       "      <th>4</th>\n",
       "      <td>201974388</td>\n",
       "      <td>MDEwOlJlcG9zaXRvcnkyMDE5NzQzODg=</td>\n",
       "      <td>datalis0819</td>\n",
       "      <td>filipamiralopes/datalis0819</td>\n",
       "      <td>False</td>\n",
       "      <td>{'login': 'filipamiralopes', 'id': 42877871, '...</td>\n",
       "      <td>https://github.com/filipamiralopes/datalis0819</td>\n",
       "      <td>Data Analytics Full Time Lisbon, August 2019</td>\n",
       "      <td>True</td>\n",
       "      <td>https://api.github.com/repos/filipamiralopes/d...</td>\n",
       "      <td>...</td>\n",
       "      <td>0</td>\n",
       "      <td>None</td>\n",
       "      <td>False</td>\n",
       "      <td>False</td>\n",
       "      <td>0</td>\n",
       "      <td>{'key': 'agpl-3.0', 'name': 'GNU Affero Genera...</td>\n",
       "      <td>0</td>\n",
       "      <td>0</td>\n",
       "      <td>0</td>\n",
       "      <td>master</td>\n",
       "    </tr>\n",
       "  </tbody>\n",
       "</table>\n",
       "<p>5 rows × 73 columns</p>\n",
       "</div>"
      ],
      "text/plain": [
       "          id                           node_id         name  \\\n",
       "0  259088458  MDEwOlJlcG9zaXRvcnkyNTkwODg0NTg=  datalis0819   \n",
       "1  219552641  MDEwOlJlcG9zaXRvcnkyMTk1NTI2NDE=  datalis0819   \n",
       "2  219547548  MDEwOlJlcG9zaXRvcnkyMTk1NDc1NDg=  datalis0819   \n",
       "3  206122694  MDEwOlJlcG9zaXRvcnkyMDYxMjI2OTQ=  datalis0819   \n",
       "4  201974388  MDEwOlJlcG9zaXRvcnkyMDE5NzQzODg=  datalis0819   \n",
       "\n",
       "                     full_name  private  \\\n",
       "0            edxz7/datalis0819    False   \n",
       "1       Mariana427/datalis0819    False   \n",
       "2   EvelienDonkers/datalis0819    False   \n",
       "3      ta-data-lis/datalis0819    False   \n",
       "4  filipamiralopes/datalis0819    False   \n",
       "\n",
       "                                               owner  \\\n",
       "0  {'login': 'edxz7', 'id': 22061025, 'node_id': ...   \n",
       "1  {'login': 'Mariana427', 'id': 54869432, 'node_...   \n",
       "2  {'login': 'EvelienDonkers', 'id': 55210096, 'n...   \n",
       "3  {'login': 'ta-data-lis', 'id': 54109907, 'node...   \n",
       "4  {'login': 'filipamiralopes', 'id': 42877871, '...   \n",
       "\n",
       "                                         html_url  \\\n",
       "0            https://github.com/edxz7/datalis0819   \n",
       "1       https://github.com/Mariana427/datalis0819   \n",
       "2   https://github.com/EvelienDonkers/datalis0819   \n",
       "3      https://github.com/ta-data-lis/datalis0819   \n",
       "4  https://github.com/filipamiralopes/datalis0819   \n",
       "\n",
       "                                    description  fork  \\\n",
       "0  Data Analytics Full Time Lisbon, August 2019  True   \n",
       "1  Data Analytics Full Time Lisbon, August 2019  True   \n",
       "2  Data Analytics Full Time Lisbon, August 2019  True   \n",
       "3  Data Analytics Full Time Lisbon, August 2019  True   \n",
       "4  Data Analytics Full Time Lisbon, August 2019  True   \n",
       "\n",
       "                                                 url  ... forks_count  \\\n",
       "0     https://api.github.com/repos/edxz7/datalis0819  ...           0   \n",
       "1  https://api.github.com/repos/Mariana427/datali...  ...           0   \n",
       "2  https://api.github.com/repos/EvelienDonkers/da...  ...           0   \n",
       "3  https://api.github.com/repos/ta-data-lis/datal...  ...           0   \n",
       "4  https://api.github.com/repos/filipamiralopes/d...  ...           0   \n",
       "\n",
       "  mirror_url archived disabled open_issues_count  \\\n",
       "0       None    False    False                 0   \n",
       "1       None    False    False                 0   \n",
       "2       None    False    False                 0   \n",
       "3       None    False    False                 0   \n",
       "4       None    False    False                 0   \n",
       "\n",
       "                                             license forks open_issues  \\\n",
       "0  {'key': 'agpl-3.0', 'name': 'GNU Affero Genera...     0           0   \n",
       "1  {'key': 'agpl-3.0', 'name': 'GNU Affero Genera...     0           0   \n",
       "2  {'key': 'agpl-3.0', 'name': 'GNU Affero Genera...     0           0   \n",
       "3  {'key': 'agpl-3.0', 'name': 'GNU Affero Genera...     0           0   \n",
       "4  {'key': 'agpl-3.0', 'name': 'GNU Affero Genera...     0           0   \n",
       "\n",
       "  watchers default_branch  \n",
       "0        0         master  \n",
       "1        0         master  \n",
       "2        0         master  \n",
       "3        0         master  \n",
       "4        0         master  \n",
       "\n",
       "[5 rows x 73 columns]"
      ]
     },
     "execution_count": 10,
     "metadata": {},
     "output_type": "execute_result"
    }
   ],
   "source": [
    "#Obtain full list of forks created from the main lab repo via Github API\n",
    "\n",
    "\n",
    "forks = pd.DataFrame(response.json())\n",
    "forks.head()"
   ]
  },
  {
   "cell_type": "code",
   "execution_count": 8,
   "id": "8f8685a2",
   "metadata": {},
   "outputs": [
    {
     "data": {
      "text/plain": [
       "(12, 73)"
      ]
     },
     "execution_count": 8,
     "metadata": {},
     "output_type": "execute_result"
    }
   ],
   "source": [
    "forks.shape\n",
    "\n",
    "#There are 12 rows and 73 columns"
   ]
  },
  {
   "cell_type": "code",
   "execution_count": 11,
   "id": "bcfdff71",
   "metadata": {},
   "outputs": [
    {
     "data": {
      "text/plain": [
       "Index(['id', 'node_id', 'name', 'full_name', 'private', 'owner', 'html_url',\n",
       "       'description', 'fork', 'url', 'forks_url', 'keys_url',\n",
       "       'collaborators_url', 'teams_url', 'hooks_url', 'issue_events_url',\n",
       "       'events_url', 'assignees_url', 'branches_url', 'tags_url', 'blobs_url',\n",
       "       'git_tags_url', 'git_refs_url', 'trees_url', 'statuses_url',\n",
       "       'languages_url', 'stargazers_url', 'contributors_url',\n",
       "       'subscribers_url', 'subscription_url', 'commits_url', 'git_commits_url',\n",
       "       'comments_url', 'issue_comment_url', 'contents_url', 'compare_url',\n",
       "       'merges_url', 'archive_url', 'downloads_url', 'issues_url', 'pulls_url',\n",
       "       'milestones_url', 'notifications_url', 'labels_url', 'releases_url',\n",
       "       'deployments_url', 'created_at', 'updated_at', 'pushed_at', 'git_url',\n",
       "       'ssh_url', 'clone_url', 'svn_url', 'homepage', 'size',\n",
       "       'stargazers_count', 'watchers_count', 'language', 'has_issues',\n",
       "       'has_projects', 'has_downloads', 'has_wiki', 'has_pages', 'forks_count',\n",
       "       'mirror_url', 'archived', 'disabled', 'open_issues_count', 'license',\n",
       "       'forks', 'open_issues', 'watchers', 'default_branch'],\n",
       "      dtype='object')"
      ]
     },
     "execution_count": 11,
     "metadata": {},
     "output_type": "execute_result"
    }
   ],
   "source": [
    "forks.columns\n",
    "#we are interested in the \"language\" column"
   ]
  },
  {
   "cell_type": "code",
   "execution_count": 14,
   "id": "e9cf0abe",
   "metadata": {},
   "outputs": [
    {
     "data": {
      "text/plain": [
       "[None, 'Jupyter Notebook']"
      ]
     },
     "execution_count": 14,
     "metadata": {},
     "output_type": "execute_result"
    }
   ],
   "source": [
    "#Get a list of languages\n",
    "\n",
    "#help link - https://stackoverflow.com/questions/22341271/get-list-from-pandas-dataframe-column-or-row\n",
    "\n",
    "language_types = forks[\"language\"].unique().tolist()\n",
    "language_types"
   ]
  },
  {
   "cell_type": "code",
   "execution_count": null,
   "id": "3c1a4688",
   "metadata": {},
   "outputs": [],
   "source": [
    "#Answer: You have jupyter notebook as language type"
   ]
  },
  {
   "cell_type": "markdown",
   "id": "a26e9347",
   "metadata": {},
   "source": [
    "Challenge 2: Count Commits\n",
    "\n",
    "Assuming the main lab repo is ta-data-lis/lab-mysql-first-queries, you will count how many commits were made in the past 2 weeks:\n",
    "\n",
    "Obtain all the commits made in the past 2 weeks via API, which is a JSON array that contains multiple commit objects.\n",
    "Count how many commit objects are contained in the array.\n",
    "\n",
    "\n",
    "Notes:\n",
    "Github API documentation can be found here.\n",
    "You will need to study the Github API documentation to decide which API endpoint to call and what parameters to use in order to obtain the information you need. Unless you are already super familiar with Github API or super lucky, you probably will do some trials and errors. Therefore, be prepared to go back and forth in studying the API documentation, testing, and revising until you obtain what you need.\n",
    "After receiving the JSON data object, you need to inspect its structure and decide how to parse the data.\n",
    "\n",
    "When you test your requests with Github API, sometimes you may be blocked by Github with an error message that reads:\n",
    "You have triggered an abuse detection mechanism and have been temporarily blocked from content creation. Please retry your request again later.\n",
    "Don't worry. Check the parameters in your request and wait for a minute or two before you make additional requests."
   ]
  },
  {
   "cell_type": "code",
   "execution_count": 21,
   "id": "314d259b",
   "metadata": {},
   "outputs": [],
   "source": [
    "#Start by doing a request test. Using\n",
    "\n",
    "url_commits = \"https://api.github.com/repos/ta-data-lis/lab-mysql-first-queries/commits\"\n",
    "params = {'since':'2021-07-31T00:00:00Z'}\n"
   ]
  },
  {
   "cell_type": "code",
   "execution_count": 22,
   "id": "a3e56aab",
   "metadata": {},
   "outputs": [
    {
     "data": {
      "text/plain": [
       "<Response [200]>"
      ]
     },
     "execution_count": 22,
     "metadata": {},
     "output_type": "execute_result"
    }
   ],
   "source": [
    "response_commits = requests.get(url_commits)\n",
    "\n",
    "response_commits"
   ]
  },
  {
   "cell_type": "code",
   "execution_count": 27,
   "id": "d9bd9fdc",
   "metadata": {},
   "outputs": [
    {
     "data": {
      "text/html": [
       "<div>\n",
       "<style scoped>\n",
       "    .dataframe tbody tr th:only-of-type {\n",
       "        vertical-align: middle;\n",
       "    }\n",
       "\n",
       "    .dataframe tbody tr th {\n",
       "        vertical-align: top;\n",
       "    }\n",
       "\n",
       "    .dataframe thead th {\n",
       "        text-align: right;\n",
       "    }\n",
       "</style>\n",
       "<table border=\"1\" class=\"dataframe\">\n",
       "  <thead>\n",
       "    <tr style=\"text-align: right;\">\n",
       "      <th></th>\n",
       "      <th>sha</th>\n",
       "      <th>node_id</th>\n",
       "      <th>commit</th>\n",
       "      <th>url</th>\n",
       "      <th>html_url</th>\n",
       "      <th>comments_url</th>\n",
       "      <th>author</th>\n",
       "      <th>committer</th>\n",
       "      <th>parents</th>\n",
       "    </tr>\n",
       "  </thead>\n",
       "  <tbody>\n",
       "    <tr>\n",
       "      <th>0</th>\n",
       "      <td>6a243303cfd846faac16417cad54cd40ab3f82c6</td>\n",
       "      <td>MDY6Q29tbWl0MjAzMTMyMjg2OjZhMjQzMzAzY2ZkODQ2Zm...</td>\n",
       "      <td>{'author': {'name': 'Carlos Madriz', 'email': ...</td>\n",
       "      <td>https://api.github.com/repos/ta-data-lis/lab-m...</td>\n",
       "      <td>https://github.com/ta-data-lis/lab-mysql-first...</td>\n",
       "      <td>https://api.github.com/repos/ta-data-lis/lab-m...</td>\n",
       "      <td>{'login': 'carlosmd14', 'id': 45972288, 'node_...</td>\n",
       "      <td>{'login': 'web-flow', 'id': 19864447, 'node_id...</td>\n",
       "      <td>[{'sha': 'ee6d046595a26c76425df9fffdb6ed6737c7...</td>\n",
       "    </tr>\n",
       "    <tr>\n",
       "      <th>1</th>\n",
       "      <td>ee6d046595a26c76425df9fffdb6ed6737c7c06b</td>\n",
       "      <td>MDY6Q29tbWl0MjAzMTMyMjg2OmVlNmQwNDY1OTVhMjZjNz...</td>\n",
       "      <td>{'author': {'name': 'Carlos Madriz', 'email': ...</td>\n",
       "      <td>https://api.github.com/repos/ta-data-lis/lab-m...</td>\n",
       "      <td>https://github.com/ta-data-lis/lab-mysql-first...</td>\n",
       "      <td>https://api.github.com/repos/ta-data-lis/lab-m...</td>\n",
       "      <td>{'login': 'carlosmd14', 'id': 45972288, 'node_...</td>\n",
       "      <td>{'login': 'web-flow', 'id': 19864447, 'node_id...</td>\n",
       "      <td>[{'sha': '381994f755b6b95ffc4fe512f36e2640bd04...</td>\n",
       "    </tr>\n",
       "    <tr>\n",
       "      <th>2</th>\n",
       "      <td>381994f755b6b95ffc4fe512f36e2640bd04034f</td>\n",
       "      <td>MDY6Q29tbWl0MjAzMTMyMjg2OjM4MTk5NGY3NTViNmI5NW...</td>\n",
       "      <td>{'author': {'name': 'Carlos Madriz', 'email': ...</td>\n",
       "      <td>https://api.github.com/repos/ta-data-lis/lab-m...</td>\n",
       "      <td>https://github.com/ta-data-lis/lab-mysql-first...</td>\n",
       "      <td>https://api.github.com/repos/ta-data-lis/lab-m...</td>\n",
       "      <td>{'login': 'carlosmd14', 'id': 45972288, 'node_...</td>\n",
       "      <td>{'login': 'web-flow', 'id': 19864447, 'node_id...</td>\n",
       "      <td>[{'sha': '2e9b232b72bec7218cd77f171098a7391d89...</td>\n",
       "    </tr>\n",
       "    <tr>\n",
       "      <th>3</th>\n",
       "      <td>2e9b232b72bec7218cd77f171098a7391d89ba8c</td>\n",
       "      <td>MDY6Q29tbWl0MjAzMTMyMjg2OjJlOWIyMzJiNzJiZWM3Mj...</td>\n",
       "      <td>{'author': {'name': 'Carla Mendes', 'email': '...</td>\n",
       "      <td>https://api.github.com/repos/ta-data-lis/lab-m...</td>\n",
       "      <td>https://github.com/ta-data-lis/lab-mysql-first...</td>\n",
       "      <td>https://api.github.com/repos/ta-data-lis/lab-m...</td>\n",
       "      <td>{'login': 'carlarsmendes', 'id': 38359702, 'no...</td>\n",
       "      <td>{'login': 'carlarsmendes', 'id': 38359702, 'no...</td>\n",
       "      <td>[]</td>\n",
       "    </tr>\n",
       "  </tbody>\n",
       "</table>\n",
       "</div>"
      ],
      "text/plain": [
       "                                        sha  \\\n",
       "0  6a243303cfd846faac16417cad54cd40ab3f82c6   \n",
       "1  ee6d046595a26c76425df9fffdb6ed6737c7c06b   \n",
       "2  381994f755b6b95ffc4fe512f36e2640bd04034f   \n",
       "3  2e9b232b72bec7218cd77f171098a7391d89ba8c   \n",
       "\n",
       "                                             node_id  \\\n",
       "0  MDY6Q29tbWl0MjAzMTMyMjg2OjZhMjQzMzAzY2ZkODQ2Zm...   \n",
       "1  MDY6Q29tbWl0MjAzMTMyMjg2OmVlNmQwNDY1OTVhMjZjNz...   \n",
       "2  MDY6Q29tbWl0MjAzMTMyMjg2OjM4MTk5NGY3NTViNmI5NW...   \n",
       "3  MDY6Q29tbWl0MjAzMTMyMjg2OjJlOWIyMzJiNzJiZWM3Mj...   \n",
       "\n",
       "                                              commit  \\\n",
       "0  {'author': {'name': 'Carlos Madriz', 'email': ...   \n",
       "1  {'author': {'name': 'Carlos Madriz', 'email': ...   \n",
       "2  {'author': {'name': 'Carlos Madriz', 'email': ...   \n",
       "3  {'author': {'name': 'Carla Mendes', 'email': '...   \n",
       "\n",
       "                                                 url  \\\n",
       "0  https://api.github.com/repos/ta-data-lis/lab-m...   \n",
       "1  https://api.github.com/repos/ta-data-lis/lab-m...   \n",
       "2  https://api.github.com/repos/ta-data-lis/lab-m...   \n",
       "3  https://api.github.com/repos/ta-data-lis/lab-m...   \n",
       "\n",
       "                                            html_url  \\\n",
       "0  https://github.com/ta-data-lis/lab-mysql-first...   \n",
       "1  https://github.com/ta-data-lis/lab-mysql-first...   \n",
       "2  https://github.com/ta-data-lis/lab-mysql-first...   \n",
       "3  https://github.com/ta-data-lis/lab-mysql-first...   \n",
       "\n",
       "                                        comments_url  \\\n",
       "0  https://api.github.com/repos/ta-data-lis/lab-m...   \n",
       "1  https://api.github.com/repos/ta-data-lis/lab-m...   \n",
       "2  https://api.github.com/repos/ta-data-lis/lab-m...   \n",
       "3  https://api.github.com/repos/ta-data-lis/lab-m...   \n",
       "\n",
       "                                              author  \\\n",
       "0  {'login': 'carlosmd14', 'id': 45972288, 'node_...   \n",
       "1  {'login': 'carlosmd14', 'id': 45972288, 'node_...   \n",
       "2  {'login': 'carlosmd14', 'id': 45972288, 'node_...   \n",
       "3  {'login': 'carlarsmendes', 'id': 38359702, 'no...   \n",
       "\n",
       "                                           committer  \\\n",
       "0  {'login': 'web-flow', 'id': 19864447, 'node_id...   \n",
       "1  {'login': 'web-flow', 'id': 19864447, 'node_id...   \n",
       "2  {'login': 'web-flow', 'id': 19864447, 'node_id...   \n",
       "3  {'login': 'carlarsmendes', 'id': 38359702, 'no...   \n",
       "\n",
       "                                             parents  \n",
       "0  [{'sha': 'ee6d046595a26c76425df9fffdb6ed6737c7...  \n",
       "1  [{'sha': '381994f755b6b95ffc4fe512f36e2640bd04...  \n",
       "2  [{'sha': '2e9b232b72bec7218cd77f171098a7391d89...  \n",
       "3                                                 []  "
      ]
     },
     "execution_count": 27,
     "metadata": {},
     "output_type": "execute_result"
    }
   ],
   "source": [
    "#convert to pandas dataframe\n",
    "commits = pd.DataFrame(response_commits.json())\n",
    "commits.head()"
   ]
  },
  {
   "cell_type": "code",
   "execution_count": 31,
   "id": "72542ea0",
   "metadata": {},
   "outputs": [
    {
     "data": {
      "text/plain": [
       "4"
      ]
     },
     "execution_count": 31,
     "metadata": {},
     "output_type": "execute_result"
    }
   ],
   "source": [
    "#Highlight the number of commits\n",
    "\n",
    "len(commits)"
   ]
  },
  {
   "cell_type": "code",
   "execution_count": 30,
   "id": "f77cefc7",
   "metadata": {},
   "outputs": [],
   "source": [
    "#answer: Between july 31 and august 13, we have 4 commits"
   ]
  }
 ],
 "metadata": {
  "kernelspec": {
   "display_name": "Python 3",
   "language": "python",
   "name": "python3"
  },
  "language_info": {
   "codemirror_mode": {
    "name": "ipython",
    "version": 3
   },
   "file_extension": ".py",
   "mimetype": "text/x-python",
   "name": "python",
   "nbconvert_exporter": "python",
   "pygments_lexer": "ipython3",
   "version": "3.8.8"
  }
 },
 "nbformat": 4,
 "nbformat_minor": 5
}
